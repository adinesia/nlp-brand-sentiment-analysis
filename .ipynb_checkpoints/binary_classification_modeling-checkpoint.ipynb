{
 "cells": [
  {
   "cell_type": "markdown",
   "metadata": {},
   "source": [
    "# Binary Classification Modeling"
   ]
  },
  {
   "cell_type": "code",
   "execution_count": 1,
   "metadata": {
    "ExecuteTime": {
     "end_time": "2021-01-23T01:44:00.942171Z",
     "start_time": "2021-01-23T01:43:57.226792Z"
    }
   },
   "outputs": [],
   "source": [
    "import numpy as np\n",
    "import pandas as pd\n",
    "pd.set_option('display.max_colwidth', 200)\n",
    "import re\n",
    "import matplotlib.pyplot as plt\n",
    "import seaborn as sns\n",
    "%matplotlib inline\n",
    "\n",
    "import string\n",
    "import nltk\n",
    "from sklearn.model_selection import train_test_split, cross_val_score, GridSearchCV\n",
    "from sklearn.metrics import plot_confusion_matrix\n",
    "from sklearn.metrics import classification_report\n",
    "from sklearn.feature_extraction.text import CountVectorizer\n",
    "from sklearn.feature_extraction.text import TfidfVectorizer\n",
    "from sklearn.naive_bayes import MultinomialNB\n",
    "from sklearn.ensemble import RandomForestClassifier\n",
    "from sklearn.svm import SVC\n",
    "from bs4 import BeautifulSoup\n",
    "\n",
    "sns.set_style('darkgrid')\n",
    "plt.style.use('fivethirtyeight')"
   ]
  },
  {
   "cell_type": "code",
   "execution_count": 2,
   "metadata": {
    "ExecuteTime": {
     "end_time": "2021-01-23T01:44:02.289764Z",
     "start_time": "2021-01-23T01:44:02.139712Z"
    }
   },
   "outputs": [
    {
     "data": {
      "text/html": [
       "<div>\n",
       "<style scoped>\n",
       "    .dataframe tbody tr th:only-of-type {\n",
       "        vertical-align: middle;\n",
       "    }\n",
       "\n",
       "    .dataframe tbody tr th {\n",
       "        vertical-align: top;\n",
       "    }\n",
       "\n",
       "    .dataframe thead tr th {\n",
       "        text-align: left;\n",
       "    }\n",
       "\n",
       "    .dataframe thead tr:last-of-type th {\n",
       "        text-align: right;\n",
       "    }\n",
       "</style>\n",
       "<table border=\"1\" class=\"dataframe\">\n",
       "  <thead>\n",
       "    <tr>\n",
       "      <th></th>\n",
       "      <th colspan=\"8\" halign=\"left\">hashtag_count</th>\n",
       "      <th colspan=\"8\" halign=\"left\">mention_count</th>\n",
       "      <th colspan=\"8\" halign=\"left\">weblink_count</th>\n",
       "      <th colspan=\"8\" halign=\"left\">tweet_length</th>\n",
       "      <th colspan=\"8\" halign=\"left\">punct_count</th>\n",
       "    </tr>\n",
       "    <tr>\n",
       "      <th></th>\n",
       "      <th>count</th>\n",
       "      <th>mean</th>\n",
       "      <th>std</th>\n",
       "      <th>min</th>\n",
       "      <th>25%</th>\n",
       "      <th>50%</th>\n",
       "      <th>75%</th>\n",
       "      <th>max</th>\n",
       "      <th>count</th>\n",
       "      <th>mean</th>\n",
       "      <th>std</th>\n",
       "      <th>min</th>\n",
       "      <th>25%</th>\n",
       "      <th>50%</th>\n",
       "      <th>75%</th>\n",
       "      <th>max</th>\n",
       "      <th>count</th>\n",
       "      <th>mean</th>\n",
       "      <th>std</th>\n",
       "      <th>min</th>\n",
       "      <th>25%</th>\n",
       "      <th>50%</th>\n",
       "      <th>75%</th>\n",
       "      <th>max</th>\n",
       "      <th>count</th>\n",
       "      <th>mean</th>\n",
       "      <th>std</th>\n",
       "      <th>min</th>\n",
       "      <th>25%</th>\n",
       "      <th>50%</th>\n",
       "      <th>75%</th>\n",
       "      <th>max</th>\n",
       "      <th>count</th>\n",
       "      <th>mean</th>\n",
       "      <th>std</th>\n",
       "      <th>min</th>\n",
       "      <th>25%</th>\n",
       "      <th>50%</th>\n",
       "      <th>75%</th>\n",
       "      <th>max</th>\n",
       "    </tr>\n",
       "    <tr>\n",
       "      <th>sentiment</th>\n",
       "      <th></th>\n",
       "      <th></th>\n",
       "      <th></th>\n",
       "      <th></th>\n",
       "      <th></th>\n",
       "      <th></th>\n",
       "      <th></th>\n",
       "      <th></th>\n",
       "      <th></th>\n",
       "      <th></th>\n",
       "      <th></th>\n",
       "      <th></th>\n",
       "      <th></th>\n",
       "      <th></th>\n",
       "      <th></th>\n",
       "      <th></th>\n",
       "      <th></th>\n",
       "      <th></th>\n",
       "      <th></th>\n",
       "      <th></th>\n",
       "      <th></th>\n",
       "      <th></th>\n",
       "      <th></th>\n",
       "      <th></th>\n",
       "      <th></th>\n",
       "      <th></th>\n",
       "      <th></th>\n",
       "      <th></th>\n",
       "      <th></th>\n",
       "      <th></th>\n",
       "      <th></th>\n",
       "      <th></th>\n",
       "      <th></th>\n",
       "      <th></th>\n",
       "      <th></th>\n",
       "      <th></th>\n",
       "      <th></th>\n",
       "      <th></th>\n",
       "      <th></th>\n",
       "      <th></th>\n",
       "    </tr>\n",
       "  </thead>\n",
       "  <tbody>\n",
       "    <tr>\n",
       "      <td>0</td>\n",
       "      <td>5341.0</td>\n",
       "      <td>1.758285</td>\n",
       "      <td>1.116353</td>\n",
       "      <td>0.0</td>\n",
       "      <td>1.0</td>\n",
       "      <td>1.0</td>\n",
       "      <td>2.0</td>\n",
       "      <td>12.0</td>\n",
       "      <td>5341.0</td>\n",
       "      <td>0.752106</td>\n",
       "      <td>0.905020</td>\n",
       "      <td>0.0</td>\n",
       "      <td>0.0</td>\n",
       "      <td>1.0</td>\n",
       "      <td>1.0</td>\n",
       "      <td>8.0</td>\n",
       "      <td>5341.0</td>\n",
       "      <td>0.457218</td>\n",
       "      <td>0.529199</td>\n",
       "      <td>0.0</td>\n",
       "      <td>0.0</td>\n",
       "      <td>0.0</td>\n",
       "      <td>1.0</td>\n",
       "      <td>3.0</td>\n",
       "      <td>5341.0</td>\n",
       "      <td>17.340573</td>\n",
       "      <td>4.926567</td>\n",
       "      <td>4.0</td>\n",
       "      <td>14.0</td>\n",
       "      <td>17.0</td>\n",
       "      <td>21.0</td>\n",
       "      <td>32.0</td>\n",
       "      <td>5341.0</td>\n",
       "      <td>3.264183</td>\n",
       "      <td>2.425220</td>\n",
       "      <td>0.0</td>\n",
       "      <td>1.0</td>\n",
       "      <td>3.0</td>\n",
       "      <td>5.0</td>\n",
       "      <td>22.0</td>\n",
       "    </tr>\n",
       "    <tr>\n",
       "      <td>1</td>\n",
       "      <td>2989.0</td>\n",
       "      <td>1.686183</td>\n",
       "      <td>0.969004</td>\n",
       "      <td>0.0</td>\n",
       "      <td>1.0</td>\n",
       "      <td>1.0</td>\n",
       "      <td>2.0</td>\n",
       "      <td>10.0</td>\n",
       "      <td>2989.0</td>\n",
       "      <td>0.740381</td>\n",
       "      <td>0.853871</td>\n",
       "      <td>0.0</td>\n",
       "      <td>0.0</td>\n",
       "      <td>1.0</td>\n",
       "      <td>1.0</td>\n",
       "      <td>7.0</td>\n",
       "      <td>2989.0</td>\n",
       "      <td>0.407494</td>\n",
       "      <td>0.503559</td>\n",
       "      <td>0.0</td>\n",
       "      <td>0.0</td>\n",
       "      <td>0.0</td>\n",
       "      <td>1.0</td>\n",
       "      <td>2.0</td>\n",
       "      <td>2989.0</td>\n",
       "      <td>17.892606</td>\n",
       "      <td>4.879626</td>\n",
       "      <td>4.0</td>\n",
       "      <td>14.0</td>\n",
       "      <td>18.0</td>\n",
       "      <td>22.0</td>\n",
       "      <td>33.0</td>\n",
       "      <td>2989.0</td>\n",
       "      <td>3.435597</td>\n",
       "      <td>2.326356</td>\n",
       "      <td>0.0</td>\n",
       "      <td>2.0</td>\n",
       "      <td>3.0</td>\n",
       "      <td>5.0</td>\n",
       "      <td>19.0</td>\n",
       "    </tr>\n",
       "  </tbody>\n",
       "</table>\n",
       "</div>"
      ],
      "text/plain": [
       "          hashtag_count                                                \\\n",
       "                  count      mean       std  min  25%  50%  75%   max   \n",
       "sentiment                                                               \n",
       "0                5341.0  1.758285  1.116353  0.0  1.0  1.0  2.0  12.0   \n",
       "1                2989.0  1.686183  0.969004  0.0  1.0  1.0  2.0  10.0   \n",
       "\n",
       "          mention_count                                               \\\n",
       "                  count      mean       std  min  25%  50%  75%  max   \n",
       "sentiment                                                              \n",
       "0                5341.0  0.752106  0.905020  0.0  0.0  1.0  1.0  8.0   \n",
       "1                2989.0  0.740381  0.853871  0.0  0.0  1.0  1.0  7.0   \n",
       "\n",
       "          weblink_count                                               \\\n",
       "                  count      mean       std  min  25%  50%  75%  max   \n",
       "sentiment                                                              \n",
       "0                5341.0  0.457218  0.529199  0.0  0.0  0.0  1.0  3.0   \n",
       "1                2989.0  0.407494  0.503559  0.0  0.0  0.0  1.0  2.0   \n",
       "\n",
       "          tweet_length                                                    \\\n",
       "                 count       mean       std  min   25%   50%   75%   max   \n",
       "sentiment                                                                  \n",
       "0               5341.0  17.340573  4.926567  4.0  14.0  17.0  21.0  32.0   \n",
       "1               2989.0  17.892606  4.879626  4.0  14.0  18.0  22.0  33.0   \n",
       "\n",
       "          punct_count                                                \n",
       "                count      mean       std  min  25%  50%  75%   max  \n",
       "sentiment                                                            \n",
       "0              5341.0  3.264183  2.425220  0.0  1.0  3.0  5.0  22.0  \n",
       "1              2989.0  3.435597  2.326356  0.0  2.0  3.0  5.0  19.0  "
      ]
     },
     "execution_count": 2,
     "metadata": {},
     "output_type": "execute_result"
    }
   ],
   "source": [
    "df_binary = pd.read_csv('binary_tweets.csv')\n",
    "pd.set_option('max_columns', None)\n",
    "df_binary.groupby('sentiment').describe()"
   ]
  },
  {
   "cell_type": "code",
   "execution_count": 3,
   "metadata": {
    "ExecuteTime": {
     "end_time": "2021-01-23T01:44:02.998316Z",
     "start_time": "2021-01-23T01:44:02.969610Z"
    },
    "scrolled": true
   },
   "outputs": [
    {
     "data": {
      "text/html": [
       "<div>\n",
       "<style scoped>\n",
       "    .dataframe tbody tr th:only-of-type {\n",
       "        vertical-align: middle;\n",
       "    }\n",
       "\n",
       "    .dataframe tbody tr th {\n",
       "        vertical-align: top;\n",
       "    }\n",
       "\n",
       "    .dataframe thead th {\n",
       "        text-align: right;\n",
       "    }\n",
       "</style>\n",
       "<table border=\"1\" class=\"dataframe\">\n",
       "  <thead>\n",
       "    <tr style=\"text-align: right;\">\n",
       "      <th></th>\n",
       "      <th>tweet</th>\n",
       "      <th>brand_product</th>\n",
       "      <th>sentiment</th>\n",
       "      <th>tweet_tokens</th>\n",
       "      <th>hashtag_count</th>\n",
       "      <th>mention_count</th>\n",
       "      <th>weblink_count</th>\n",
       "      <th>tweet_length</th>\n",
       "      <th>punct_count</th>\n",
       "    </tr>\n",
       "  </thead>\n",
       "  <tbody>\n",
       "    <tr>\n",
       "      <td>0</td>\n",
       "      <td>.@wesley83 I have a 3G iPhone. After 3 hrs tweeting at #RISE_Austin, it was dead! I need to upgrade. Plugin stations at #SXSW.</td>\n",
       "      <td>iPhone</td>\n",
       "      <td>0</td>\n",
       "      <td>['wesley83', '3g', 'iphone', '3', 'hr', 'tweeting', 'riseaustin', 'dead', 'need', 'upgrade', 'plugin', 'station', 'sxsw']</td>\n",
       "      <td>2</td>\n",
       "      <td>1</td>\n",
       "      <td>0</td>\n",
       "      <td>23</td>\n",
       "      <td>7</td>\n",
       "    </tr>\n",
       "    <tr>\n",
       "      <td>1</td>\n",
       "      <td>@jessedee Know about @fludapp ? Awesome iPad/iPhone app that you'll likely appreciate for its design. Also, they're giving free Ts at #SXSW</td>\n",
       "      <td>iPad or iPhone App</td>\n",
       "      <td>1</td>\n",
       "      <td>['jessedee', 'know', 'fludapp', 'awesome', 'ipadiphone', 'app', 'youll', 'likely', 'appreciate', 'design', 'also', 'theyre', 'giving', 'free', 't', 'sxsw']</td>\n",
       "      <td>1</td>\n",
       "      <td>2</td>\n",
       "      <td>0</td>\n",
       "      <td>21</td>\n",
       "      <td>6</td>\n",
       "    </tr>\n",
       "    <tr>\n",
       "      <td>2</td>\n",
       "      <td>@swonderlin Can not wait for #iPad 2 also. They should sale them down at #SXSW.</td>\n",
       "      <td>iPad</td>\n",
       "      <td>1</td>\n",
       "      <td>['swonderlin', 'wait', 'ipad', '2', 'also', 'sale', 'sxsw']</td>\n",
       "      <td>2</td>\n",
       "      <td>1</td>\n",
       "      <td>0</td>\n",
       "      <td>15</td>\n",
       "      <td>2</td>\n",
       "    </tr>\n",
       "    <tr>\n",
       "      <td>3</td>\n",
       "      <td>@sxsw I hope this year's festival isn't as crashy as this year's iPhone app. #sxsw</td>\n",
       "      <td>iPad or iPhone App</td>\n",
       "      <td>0</td>\n",
       "      <td>['sxsw', 'hope', 'year', 'festival', 'isnt', 'crashy', 'year', 'iphone', 'app', 'sxsw']</td>\n",
       "      <td>1</td>\n",
       "      <td>1</td>\n",
       "      <td>0</td>\n",
       "      <td>15</td>\n",
       "      <td>4</td>\n",
       "    </tr>\n",
       "    <tr>\n",
       "      <td>4</td>\n",
       "      <td>@sxtxstate great stuff on Fri #SXSW: Marissa Mayer (Google), Tim O'Reilly (tech books/conferences) &amp; Matt Mullenweg (Wordpress)</td>\n",
       "      <td>Google</td>\n",
       "      <td>1</td>\n",
       "      <td>['sxtxstate', 'great', 'stuff', 'fri', 'sxsw', 'marissa', 'mayer', 'google', 'tim', 'oreilly', 'tech', 'booksconferences', 'matt', 'mullenweg', 'wordpress']</td>\n",
       "      <td>1</td>\n",
       "      <td>1</td>\n",
       "      <td>0</td>\n",
       "      <td>16</td>\n",
       "      <td>11</td>\n",
       "    </tr>\n",
       "    <tr>\n",
       "      <td>5</td>\n",
       "      <td>@teachntech00 New iPad Apps For #SpeechTherapy And Communication Are Showcased At The #SXSW Conference http://ht.ly/49n4M #iear #edchat #asd</td>\n",
       "      <td>iPad</td>\n",
       "      <td>0</td>\n",
       "      <td>['teachntech00', 'new', 'ipad', 'apps', 'speechtherapy', 'communication', 'showcased', 'sxsw', 'conference', 'httphtly49n4m', 'iear', 'edchat', 'asd']</td>\n",
       "      <td>5</td>\n",
       "      <td>1</td>\n",
       "      <td>1</td>\n",
       "      <td>18</td>\n",
       "      <td>0</td>\n",
       "    </tr>\n",
       "    <tr>\n",
       "      <td>6</td>\n",
       "      <td>#SXSW is just starting, #CTIA is around the corner and #googleio is only a hop skip and a jump from there, good time to be an #android fan</td>\n",
       "      <td>Android</td>\n",
       "      <td>1</td>\n",
       "      <td>['sxsw', 'starting', 'ctia', 'around', 'corner', 'googleio', 'hop', 'skip', 'jump', 'good', 'time', 'android', 'fan']</td>\n",
       "      <td>4</td>\n",
       "      <td>0</td>\n",
       "      <td>0</td>\n",
       "      <td>28</td>\n",
       "      <td>2</td>\n",
       "    </tr>\n",
       "    <tr>\n",
       "      <td>7</td>\n",
       "      <td>Beautifully smart and simple idea RT @madebymany @thenextweb wrote about our #hollergram iPad app for #sxsw! http://bit.ly/ieaVOB</td>\n",
       "      <td>iPad or iPhone App</td>\n",
       "      <td>1</td>\n",
       "      <td>['beautifully', 'smart', 'simple', 'idea', 'rt', 'madebymany', 'thenextweb', 'wrote', 'hollergram', 'ipad', 'app', 'sxsw', 'httpbitlyieavob']</td>\n",
       "      <td>2</td>\n",
       "      <td>2</td>\n",
       "      <td>1</td>\n",
       "      <td>17</td>\n",
       "      <td>1</td>\n",
       "    </tr>\n",
       "    <tr>\n",
       "      <td>8</td>\n",
       "      <td>Counting down the days to #sxsw plus strong Canadian dollar means stock up on Apple gear</td>\n",
       "      <td>Apple</td>\n",
       "      <td>1</td>\n",
       "      <td>['counting', 'day', 'sxsw', 'plus', 'strong', 'canadian', 'dollar', 'mean', 'stock', 'apple', 'gear']</td>\n",
       "      <td>1</td>\n",
       "      <td>0</td>\n",
       "      <td>0</td>\n",
       "      <td>16</td>\n",
       "      <td>0</td>\n",
       "    </tr>\n",
       "    <tr>\n",
       "      <td>9</td>\n",
       "      <td>Excited to meet the @samsungmobileus at #sxsw so I can show them my Sprint Galaxy S still running Android 2.1. #fail</td>\n",
       "      <td>Android</td>\n",
       "      <td>1</td>\n",
       "      <td>['excited', 'meet', 'samsungmobileus', 'sxsw', 'show', 'sprint', 'galaxy', 'still', 'running', 'android', '21', 'fail']</td>\n",
       "      <td>2</td>\n",
       "      <td>1</td>\n",
       "      <td>0</td>\n",
       "      <td>21</td>\n",
       "      <td>2</td>\n",
       "    </tr>\n",
       "    <tr>\n",
       "      <td>10</td>\n",
       "      <td>Find &amp; Start Impromptu Parties at #SXSW With @HurricaneParty http://bit.ly/gVLrIn I can't wait til the Android app comes out.</td>\n",
       "      <td>Android App</td>\n",
       "      <td>1</td>\n",
       "      <td>['find', 'start', 'impromptu', 'party', 'sxsw', 'hurricaneparty', 'httpbitlygvlrin', 'cant', 'wait', 'til', 'android', 'app', 'come']</td>\n",
       "      <td>1</td>\n",
       "      <td>1</td>\n",
       "      <td>1</td>\n",
       "      <td>18</td>\n",
       "      <td>3</td>\n",
       "    </tr>\n",
       "    <tr>\n",
       "      <td>11</td>\n",
       "      <td>Foursquare ups the game, just in time for #SXSW http://j.mp/grN7pK) - Still prefer @Gowalla by far, best looking Android app to date.</td>\n",
       "      <td>Android App</td>\n",
       "      <td>1</td>\n",
       "      <td>['foursquare', 'ups', 'game', 'time', 'sxsw', 'httpjmpgrn7pk', 'still', 'prefer', 'gowalla', 'far', 'best', 'looking', 'android', 'app', 'date']</td>\n",
       "      <td>1</td>\n",
       "      <td>1</td>\n",
       "      <td>1</td>\n",
       "      <td>21</td>\n",
       "      <td>4</td>\n",
       "    </tr>\n",
       "    <tr>\n",
       "      <td>12</td>\n",
       "      <td>Gotta love this #SXSW Google Calendar featuring top parties/ show cases to check out. RT @hamsandwich via @ischafer =&gt;http://bit.ly/aXZwxB</td>\n",
       "      <td>Other Google product or service</td>\n",
       "      <td>1</td>\n",
       "      <td>['gotta', 'love', 'sxsw', 'google', 'calendar', 'featuring', 'top', 'party', 'show', 'case', 'check', 'rt', 'hamsandwich', 'via', 'ischafer', 'httpbitlyaxzwxb']</td>\n",
       "      <td>1</td>\n",
       "      <td>2</td>\n",
       "      <td>1</td>\n",
       "      <td>19</td>\n",
       "      <td>2</td>\n",
       "    </tr>\n",
       "    <tr>\n",
       "      <td>13</td>\n",
       "      <td>Great #sxsw ipad app from @madebymany: http://tinyurl.com/4nqv92l</td>\n",
       "      <td>iPad or iPhone App</td>\n",
       "      <td>1</td>\n",
       "      <td>['great', 'sxsw', 'ipad', 'app', 'madebymany', 'httptinyurlcom4nqv92l']</td>\n",
       "      <td>1</td>\n",
       "      <td>1</td>\n",
       "      <td>1</td>\n",
       "      <td>7</td>\n",
       "      <td>1</td>\n",
       "    </tr>\n",
       "    <tr>\n",
       "      <td>14</td>\n",
       "      <td>haha, awesomely rad iPad app by @madebymany http://bit.ly/hTdFim #hollergram #sxsw</td>\n",
       "      <td>iPad or iPhone App</td>\n",
       "      <td>1</td>\n",
       "      <td>['haha', 'awesomely', 'rad', 'ipad', 'app', 'madebymany', 'httpbitlyhtdfim', 'hollergram', 'sxsw']</td>\n",
       "      <td>2</td>\n",
       "      <td>1</td>\n",
       "      <td>1</td>\n",
       "      <td>10</td>\n",
       "      <td>1</td>\n",
       "    </tr>\n",
       "    <tr>\n",
       "      <td>15</td>\n",
       "      <td>Holler Gram for iPad on the iTunes App Store - http://t.co/kfN3f5Q (via @marc_is_ken) #sxsw</td>\n",
       "      <td>iPad</td>\n",
       "      <td>0</td>\n",
       "      <td>['holler', 'gram', 'ipad', 'itunes', 'app', 'store', 'httptcokfn3f5q', 'via', 'marcisken', 'sxsw']</td>\n",
       "      <td>1</td>\n",
       "      <td>1</td>\n",
       "      <td>1</td>\n",
       "      <td>13</td>\n",
       "      <td>5</td>\n",
       "    </tr>\n",
       "    <tr>\n",
       "      <td>16</td>\n",
       "      <td>I just noticed DST is coming this weekend. How many iPhone users will be an hour late at SXSW come Sunday morning? #SXSW #iPhone</td>\n",
       "      <td>iPhone</td>\n",
       "      <td>0</td>\n",
       "      <td>['noticed', 'dst', 'coming', 'weekend', 'many', 'iphone', 'user', 'hour', 'late', 'sxsw', 'come', 'sunday', 'morning', 'sxsw', 'iphone']</td>\n",
       "      <td>2</td>\n",
       "      <td>0</td>\n",
       "      <td>0</td>\n",
       "      <td>24</td>\n",
       "      <td>2</td>\n",
       "    </tr>\n",
       "    <tr>\n",
       "      <td>17</td>\n",
       "      <td>Just added my #SXSW flights to @planely. Matching people on planes/airports. Also downloaded the @KLM iPhone app, nicely done.</td>\n",
       "      <td>iPad or iPhone App</td>\n",
       "      <td>1</td>\n",
       "      <td>['added', 'sxsw', 'flight', 'planely', 'matching', 'people', 'planesairports', 'also', 'downloaded', 'klm', 'iphone', 'app', 'nicely', 'done']</td>\n",
       "      <td>1</td>\n",
       "      <td>2</td>\n",
       "      <td>0</td>\n",
       "      <td>19</td>\n",
       "      <td>5</td>\n",
       "    </tr>\n",
       "    <tr>\n",
       "      <td>18</td>\n",
       "      <td>Must have #SXSW app! RT @malbonster: Lovely review from Forbes for our SXSW iPad app Holler Gram - http://t.co/g4GZypV</td>\n",
       "      <td>iPad or iPhone App</td>\n",
       "      <td>1</td>\n",
       "      <td>['must', 'sxsw', 'app', 'rt', 'malbonster', 'lovely', 'review', 'forbes', 'sxsw', 'ipad', 'app', 'holler', 'gram', 'httptcog4gzypv']</td>\n",
       "      <td>1</td>\n",
       "      <td>1</td>\n",
       "      <td>1</td>\n",
       "      <td>18</td>\n",
       "      <td>3</td>\n",
       "    </tr>\n",
       "    <tr>\n",
       "      <td>19</td>\n",
       "      <td>Need to buy an iPad2 while I'm in Austin at #sxsw. Not sure if I'll need to Q up at an Austin Apple store?</td>\n",
       "      <td>iPad</td>\n",
       "      <td>1</td>\n",
       "      <td>['need', 'buy', 'ipad2', 'im', 'austin', 'sxsw', 'sure', 'ill', 'need', 'q', 'austin', 'apple', 'store']</td>\n",
       "      <td>1</td>\n",
       "      <td>0</td>\n",
       "      <td>0</td>\n",
       "      <td>24</td>\n",
       "      <td>4</td>\n",
       "    </tr>\n",
       "  </tbody>\n",
       "</table>\n",
       "</div>"
      ],
      "text/plain": [
       "                                                                                                                                           tweet  \\\n",
       "0                 .@wesley83 I have a 3G iPhone. After 3 hrs tweeting at #RISE_Austin, it was dead! I need to upgrade. Plugin stations at #SXSW.   \n",
       "1    @jessedee Know about @fludapp ? Awesome iPad/iPhone app that you'll likely appreciate for its design. Also, they're giving free Ts at #SXSW   \n",
       "2                                                                @swonderlin Can not wait for #iPad 2 also. They should sale them down at #SXSW.   \n",
       "3                                                             @sxsw I hope this year's festival isn't as crashy as this year's iPhone app. #sxsw   \n",
       "4                @sxtxstate great stuff on Fri #SXSW: Marissa Mayer (Google), Tim O'Reilly (tech books/conferences) & Matt Mullenweg (Wordpress)   \n",
       "5   @teachntech00 New iPad Apps For #SpeechTherapy And Communication Are Showcased At The #SXSW Conference http://ht.ly/49n4M #iear #edchat #asd   \n",
       "6     #SXSW is just starting, #CTIA is around the corner and #googleio is only a hop skip and a jump from there, good time to be an #android fan   \n",
       "7              Beautifully smart and simple idea RT @madebymany @thenextweb wrote about our #hollergram iPad app for #sxsw! http://bit.ly/ieaVOB   \n",
       "8                                                       Counting down the days to #sxsw plus strong Canadian dollar means stock up on Apple gear   \n",
       "9                           Excited to meet the @samsungmobileus at #sxsw so I can show them my Sprint Galaxy S still running Android 2.1. #fail   \n",
       "10                 Find & Start Impromptu Parties at #SXSW With @HurricaneParty http://bit.ly/gVLrIn I can't wait til the Android app comes out.   \n",
       "11         Foursquare ups the game, just in time for #SXSW http://j.mp/grN7pK) - Still prefer @Gowalla by far, best looking Android app to date.   \n",
       "12    Gotta love this #SXSW Google Calendar featuring top parties/ show cases to check out. RT @hamsandwich via @ischafer =>http://bit.ly/aXZwxB   \n",
       "13                                                                             Great #sxsw ipad app from @madebymany: http://tinyurl.com/4nqv92l   \n",
       "14                                                            haha, awesomely rad iPad app by @madebymany http://bit.ly/hTdFim #hollergram #sxsw   \n",
       "15                                                   Holler Gram for iPad on the iTunes App Store - http://t.co/kfN3f5Q (via @marc_is_ken) #sxsw   \n",
       "16              I just noticed DST is coming this weekend. How many iPhone users will be an hour late at SXSW come Sunday morning? #SXSW #iPhone   \n",
       "17                Just added my #SXSW flights to @planely. Matching people on planes/airports. Also downloaded the @KLM iPhone app, nicely done.   \n",
       "18                        Must have #SXSW app! RT @malbonster: Lovely review from Forbes for our SXSW iPad app Holler Gram - http://t.co/g4GZypV   \n",
       "19                                    Need to buy an iPad2 while I'm in Austin at #sxsw. Not sure if I'll need to Q up at an Austin Apple store?   \n",
       "\n",
       "                      brand_product  sentiment  \\\n",
       "0                            iPhone          0   \n",
       "1                iPad or iPhone App          1   \n",
       "2                              iPad          1   \n",
       "3                iPad or iPhone App          0   \n",
       "4                            Google          1   \n",
       "5                              iPad          0   \n",
       "6                           Android          1   \n",
       "7                iPad or iPhone App          1   \n",
       "8                             Apple          1   \n",
       "9                           Android          1   \n",
       "10                      Android App          1   \n",
       "11                      Android App          1   \n",
       "12  Other Google product or service          1   \n",
       "13               iPad or iPhone App          1   \n",
       "14               iPad or iPhone App          1   \n",
       "15                             iPad          0   \n",
       "16                           iPhone          0   \n",
       "17               iPad or iPhone App          1   \n",
       "18               iPad or iPhone App          1   \n",
       "19                             iPad          1   \n",
       "\n",
       "                                                                                                                                                        tweet_tokens  \\\n",
       "0                                          ['wesley83', '3g', 'iphone', '3', 'hr', 'tweeting', 'riseaustin', 'dead', 'need', 'upgrade', 'plugin', 'station', 'sxsw']   \n",
       "1        ['jessedee', 'know', 'fludapp', 'awesome', 'ipadiphone', 'app', 'youll', 'likely', 'appreciate', 'design', 'also', 'theyre', 'giving', 'free', 't', 'sxsw']   \n",
       "2                                                                                                        ['swonderlin', 'wait', 'ipad', '2', 'also', 'sale', 'sxsw']   \n",
       "3                                                                            ['sxsw', 'hope', 'year', 'festival', 'isnt', 'crashy', 'year', 'iphone', 'app', 'sxsw']   \n",
       "4       ['sxtxstate', 'great', 'stuff', 'fri', 'sxsw', 'marissa', 'mayer', 'google', 'tim', 'oreilly', 'tech', 'booksconferences', 'matt', 'mullenweg', 'wordpress']   \n",
       "5             ['teachntech00', 'new', 'ipad', 'apps', 'speechtherapy', 'communication', 'showcased', 'sxsw', 'conference', 'httphtly49n4m', 'iear', 'edchat', 'asd']   \n",
       "6                                              ['sxsw', 'starting', 'ctia', 'around', 'corner', 'googleio', 'hop', 'skip', 'jump', 'good', 'time', 'android', 'fan']   \n",
       "7                      ['beautifully', 'smart', 'simple', 'idea', 'rt', 'madebymany', 'thenextweb', 'wrote', 'hollergram', 'ipad', 'app', 'sxsw', 'httpbitlyieavob']   \n",
       "8                                                              ['counting', 'day', 'sxsw', 'plus', 'strong', 'canadian', 'dollar', 'mean', 'stock', 'apple', 'gear']   \n",
       "9                                            ['excited', 'meet', 'samsungmobileus', 'sxsw', 'show', 'sprint', 'galaxy', 'still', 'running', 'android', '21', 'fail']   \n",
       "10                             ['find', 'start', 'impromptu', 'party', 'sxsw', 'hurricaneparty', 'httpbitlygvlrin', 'cant', 'wait', 'til', 'android', 'app', 'come']   \n",
       "11                  ['foursquare', 'ups', 'game', 'time', 'sxsw', 'httpjmpgrn7pk', 'still', 'prefer', 'gowalla', 'far', 'best', 'looking', 'android', 'app', 'date']   \n",
       "12  ['gotta', 'love', 'sxsw', 'google', 'calendar', 'featuring', 'top', 'party', 'show', 'case', 'check', 'rt', 'hamsandwich', 'via', 'ischafer', 'httpbitlyaxzwxb']   \n",
       "13                                                                                           ['great', 'sxsw', 'ipad', 'app', 'madebymany', 'httptinyurlcom4nqv92l']   \n",
       "14                                                                ['haha', 'awesomely', 'rad', 'ipad', 'app', 'madebymany', 'httpbitlyhtdfim', 'hollergram', 'sxsw']   \n",
       "15                                                                ['holler', 'gram', 'ipad', 'itunes', 'app', 'store', 'httptcokfn3f5q', 'via', 'marcisken', 'sxsw']   \n",
       "16                          ['noticed', 'dst', 'coming', 'weekend', 'many', 'iphone', 'user', 'hour', 'late', 'sxsw', 'come', 'sunday', 'morning', 'sxsw', 'iphone']   \n",
       "17                    ['added', 'sxsw', 'flight', 'planely', 'matching', 'people', 'planesairports', 'also', 'downloaded', 'klm', 'iphone', 'app', 'nicely', 'done']   \n",
       "18                              ['must', 'sxsw', 'app', 'rt', 'malbonster', 'lovely', 'review', 'forbes', 'sxsw', 'ipad', 'app', 'holler', 'gram', 'httptcog4gzypv']   \n",
       "19                                                          ['need', 'buy', 'ipad2', 'im', 'austin', 'sxsw', 'sure', 'ill', 'need', 'q', 'austin', 'apple', 'store']   \n",
       "\n",
       "    hashtag_count  mention_count  weblink_count  tweet_length  punct_count  \n",
       "0               2              1              0            23            7  \n",
       "1               1              2              0            21            6  \n",
       "2               2              1              0            15            2  \n",
       "3               1              1              0            15            4  \n",
       "4               1              1              0            16           11  \n",
       "5               5              1              1            18            0  \n",
       "6               4              0              0            28            2  \n",
       "7               2              2              1            17            1  \n",
       "8               1              0              0            16            0  \n",
       "9               2              1              0            21            2  \n",
       "10              1              1              1            18            3  \n",
       "11              1              1              1            21            4  \n",
       "12              1              2              1            19            2  \n",
       "13              1              1              1             7            1  \n",
       "14              2              1              1            10            1  \n",
       "15              1              1              1            13            5  \n",
       "16              2              0              0            24            2  \n",
       "17              1              2              0            19            5  \n",
       "18              1              1              1            18            3  \n",
       "19              1              0              0            24            4  "
      ]
     },
     "execution_count": 3,
     "metadata": {},
     "output_type": "execute_result"
    }
   ],
   "source": [
    "pd.set_option('max_columns', 10)\n",
    "df_binary.head(20)"
   ]
  },
  {
   "cell_type": "code",
   "execution_count": 4,
   "metadata": {
    "ExecuteTime": {
     "end_time": "2021-01-23T01:44:03.695545Z",
     "start_time": "2021-01-23T01:44:03.683273Z"
    }
   },
   "outputs": [
    {
     "data": {
      "text/plain": [
       "0    4769\n",
       "1    3466\n",
       "2      91\n",
       "3       4\n",
       "Name: weblink_count, dtype: int64"
      ]
     },
     "execution_count": 4,
     "metadata": {},
     "output_type": "execute_result"
    }
   ],
   "source": [
    "df_binary['weblink_count'].value_counts()"
   ]
  },
  {
   "cell_type": "code",
   "execution_count": 5,
   "metadata": {
    "ExecuteTime": {
     "end_time": "2021-01-23T01:44:04.700424Z",
     "start_time": "2021-01-23T01:44:04.688645Z"
    },
    "scrolled": true
   },
   "outputs": [
    {
     "data": {
      "text/plain": [
       "2     1607\n",
       "3     1454\n",
       "1     1324\n",
       "4     1111\n",
       "5      805\n",
       "0      624\n",
       "6      609\n",
       "7      345\n",
       "8      172\n",
       "9      128\n",
       "10      71\n",
       "11      33\n",
       "12      18\n",
       "14       8\n",
       "13       7\n",
       "15       5\n",
       "16       3\n",
       "22       2\n",
       "18       1\n",
       "20       1\n",
       "21       1\n",
       "19       1\n",
       "Name: punct_count, dtype: int64"
      ]
     },
     "execution_count": 5,
     "metadata": {},
     "output_type": "execute_result"
    }
   ],
   "source": [
    "df_binary['punct_count'].value_counts()"
   ]
  },
  {
   "cell_type": "code",
   "execution_count": 6,
   "metadata": {
    "ExecuteTime": {
     "end_time": "2021-01-23T01:44:05.629476Z",
     "start_time": "2021-01-23T01:44:05.355668Z"
    }
   },
   "outputs": [],
   "source": [
    "###create test and training sets with binary categories\n",
    "###remove some of the added features: punctuation, weblink count\n",
    "tfidf_vec_bin = TfidfVectorizer()\n",
    "X_tfidf_bin = tfidf_vec_bin.fit_transform(df_binary['tweet_tokens'])\n",
    "X_tfidf_df_bin = pd.DataFrame(X_tfidf_bin.toarray())\n",
    "X_tfidf_df_bin.columns = tfidf_vec_bin.get_feature_names()"
   ]
  },
  {
   "cell_type": "code",
   "execution_count": 7,
   "metadata": {
    "ExecuteTime": {
     "end_time": "2021-01-23T01:44:06.184438Z",
     "start_time": "2021-01-23T01:44:06.180318Z"
    }
   },
   "outputs": [],
   "source": [
    "from sklearn.preprocessing import StandardScaler\n",
    "from sklearn.preprocessing import MinMaxScaler"
   ]
  },
  {
   "cell_type": "code",
   "execution_count": 8,
   "metadata": {
    "ExecuteTime": {
     "end_time": "2021-01-23T01:44:06.825173Z",
     "start_time": "2021-01-23T01:44:06.792862Z"
    }
   },
   "outputs": [],
   "source": [
    "#Log transform tweet length and then standard scale remaining added features\n",
    "added_feats = pd.concat([df_binary['hashtag_count'], df_binary['mention_count'], \n",
    "                         df_binary['tweet_length']], axis=1)\n",
    "added_feats['tweet_length'] = added_feats['tweet_length'].map(lambda x: np.log(x))\n"
   ]
  },
  {
   "cell_type": "code",
   "execution_count": 9,
   "metadata": {
    "ExecuteTime": {
     "end_time": "2021-01-23T01:44:08.544269Z",
     "start_time": "2021-01-23T01:44:07.461731Z"
    }
   },
   "outputs": [],
   "source": [
    "X_bin_af = pd.concat([added_feats, X_tfidf_df_bin], axis=1)"
   ]
  },
  {
   "cell_type": "code",
   "execution_count": 11,
   "metadata": {
    "ExecuteTime": {
     "end_time": "2021-01-23T01:44:10.803209Z",
     "start_time": "2021-01-23T01:44:10.465188Z"
    }
   },
   "outputs": [],
   "source": [
    "y_binary = df_binary['sentiment']\n",
    "\n",
    "X_train_bin, X_test_bin, y_train_bin, y_test_bin = train_test_split(X_tfidf_df_bin, y_binary, test_size=0.3, \n",
    "                                                                    stratify=y_binary, random_state=123)"
   ]
  },
  {
   "cell_type": "code",
   "execution_count": 12,
   "metadata": {
    "ExecuteTime": {
     "end_time": "2021-01-23T01:44:14.791313Z",
     "start_time": "2021-01-23T01:44:13.793686Z"
    }
   },
   "outputs": [],
   "source": [
    "X_train_bin_af, X_test_bin_af, y_train_bin_af, y_test_bin_af = train_test_split(X_bin_af, y_binary, \n",
    "                                                                                test_size=0.3, \n",
    "                                                                                stratify=y_binary, \n",
    "                                                                                random_state=123)"
   ]
  },
  {
   "cell_type": "code",
   "execution_count": 13,
   "metadata": {
    "ExecuteTime": {
     "end_time": "2021-01-23T01:44:15.494162Z",
     "start_time": "2021-01-23T01:44:15.468197Z"
    }
   },
   "outputs": [],
   "source": [
    "scaler = StandardScaler()\n",
    "train_af_transformed = pd.DataFrame(scaler.fit_transform(X_train_bin_af[['hashtag_count', \n",
    "                                                                   'mention_count', \n",
    "                                                                   'tweet_length']]))\n",
    "train_af_transformed.columns = ['hashtags_scaled', 'mentions_scaled', 'tweet_len_log_scaled']\n",
    "\n",
    "test_af_transformed = pd.DataFrame(scaler.transform(X_test_bin_af[['hashtag_count', \n",
    "                                                                   'mention_count', \n",
    "                                                                   'tweet_length']]))\n",
    "\n",
    "test_af_transformed.columns = ['hashtags_scaled', 'mentions_scaled', 'tweet_len_log_scaled']"
   ]
  },
  {
   "cell_type": "code",
   "execution_count": 14,
   "metadata": {
    "ExecuteTime": {
     "end_time": "2021-01-23T01:44:18.827024Z",
     "start_time": "2021-01-23T01:44:16.845577Z"
    },
    "scrolled": true
   },
   "outputs": [],
   "source": [
    "X_train_af_drop = X_train_bin_af.drop(columns = ['hashtag_count', 'mention_count', 'tweet_length'])\n",
    "d = X_train_af_drop.reset_index()\n",
    "e = train_af_transformed\n",
    "f = pd.concat([d, e], axis=1)\n",
    "f.set_index(d['level_0'].values, inplace=True)\n",
    "X_train_bin_af_scaled = f\n",
    "X_train_bin_af_scaled.drop(columns=['level_0'], inplace=True)"
   ]
  },
  {
   "cell_type": "code",
   "execution_count": 15,
   "metadata": {
    "ExecuteTime": {
     "end_time": "2021-01-23T01:44:23.243856Z",
     "start_time": "2021-01-23T01:44:22.549393Z"
    }
   },
   "outputs": [],
   "source": [
    "X_test_af_drop = X_test_bin_af.drop(columns = ['hashtag_count', 'mention_count', 'tweet_length'])\n",
    "a = X_test_af_drop.reset_index()\n",
    "b = test_af_transformed\n",
    "c = pd.concat([b, a], axis=1)\n",
    "c.set_index(a['level_0'].values, inplace=True)\n",
    "X_test_bin_af_scaled = c\n",
    "X_test_bin_af_scaled.drop(columns=['level_0'], inplace=True)"
   ]
  },
  {
   "cell_type": "markdown",
   "metadata": {},
   "source": [
    "## Modeling"
   ]
  },
  {
   "cell_type": "code",
   "execution_count": 20,
   "metadata": {
    "ExecuteTime": {
     "end_time": "2021-01-23T02:05:38.200146Z",
     "start_time": "2021-01-23T02:05:37.770602Z"
    }
   },
   "outputs": [
    {
     "data": {
      "text/plain": [
       "MultinomialNB()"
      ]
     },
     "execution_count": 20,
     "metadata": {},
     "output_type": "execute_result"
    }
   ],
   "source": [
    "mnb = MultinomialNB()\n",
    "mnb.fit(X_train_bin, y_train_bin)"
   ]
  },
  {
   "cell_type": "code",
   "execution_count": 22,
   "metadata": {
    "ExecuteTime": {
     "end_time": "2021-01-23T02:06:13.464947Z",
     "start_time": "2021-01-23T02:06:05.055145Z"
    }
   },
   "outputs": [],
   "source": [
    "mnb_cv_mean = np.mean(cross_val_score(mnb, X_train_bin, y_train_bin, cv=5, scoring='accuracy', n_jobs=-1))"
   ]
  },
  {
   "cell_type": "code",
   "execution_count": 23,
   "metadata": {
    "ExecuteTime": {
     "end_time": "2021-01-23T02:06:39.944454Z",
     "start_time": "2021-01-23T02:06:39.652802Z"
    }
   },
   "outputs": [
    {
     "name": "stdout",
     "output_type": "stream",
     "text": [
      "Training Accuracy: 0.7849425484479506\n",
      "Mean Cross Validation Training Accuracy: 0.6858160594155163\n",
      "Testing Accuracy: 0.687875150060024\n"
     ]
    }
   ],
   "source": [
    "print(f\"Training Accuracy: {mnb.score(X_train_bin, y_train_bin)}\")\n",
    "print(f\"Mean Cross Validation Training Accuracy: {mnb_cv_mean}\")\n",
    "print(f\"Testing Accuracy: {mnb.score(X_test_bin, y_test_bin)}\")"
   ]
  },
  {
   "cell_type": "code",
   "execution_count": 24,
   "metadata": {
    "ExecuteTime": {
     "end_time": "2021-01-23T02:17:25.263758Z",
     "start_time": "2021-01-23T02:17:25.102630Z"
    }
   },
   "outputs": [
    {
     "data": {
      "text/plain": [
       "MultinomialNB(alpha=2, fit_prior=False)"
      ]
     },
     "execution_count": 24,
     "metadata": {},
     "output_type": "execute_result"
    }
   ],
   "source": [
    "mnb_2 = MultinomialNB(alpha=2, fit_prior=False)\n",
    "mnb_2.fit(X_train_bin, y_train_bin)"
   ]
  },
  {
   "cell_type": "code",
   "execution_count": 25,
   "metadata": {
    "ExecuteTime": {
     "end_time": "2021-01-23T02:17:34.223800Z",
     "start_time": "2021-01-23T02:17:28.855734Z"
    }
   },
   "outputs": [],
   "source": [
    "mnb2_cv_mean = np.mean(cross_val_score(mnb_2, X_train_bin, y_train_bin, cv=5, scoring='accuracy', n_jobs=-1))"
   ]
  },
  {
   "cell_type": "code",
   "execution_count": 26,
   "metadata": {
    "ExecuteTime": {
     "end_time": "2021-01-23T02:17:39.141464Z",
     "start_time": "2021-01-23T02:17:38.922380Z"
    }
   },
   "outputs": [
    {
     "name": "stdout",
     "output_type": "stream",
     "text": [
      "Training Accuracy: 0.8188989881666953\n",
      "Mean Cross Validation Training Accuracy: 0.6854731532230683\n",
      "Testing Accuracy: 0.6994797919167667\n"
     ]
    }
   ],
   "source": [
    "print(f\"Training Accuracy: {mnb_2.score(X_train_bin, y_train_bin)}\")\n",
    "print(f\"Mean Cross Validation Training Accuracy: {mnb2_cv_mean}\")\n",
    "print(f\"Testing Accuracy: {mnb_2.score(X_test_bin, y_test_bin)}\")"
   ]
  },
  {
   "cell_type": "code",
   "execution_count": 60,
   "metadata": {
    "ExecuteTime": {
     "end_time": "2021-01-23T07:00:15.042924Z",
     "start_time": "2021-01-23T07:00:14.904388Z"
    }
   },
   "outputs": [
    {
     "name": "stdout",
     "output_type": "stream",
     "text": [
      "              precision    recall  f1-score   support\n",
      "\n",
      "           0       0.72      0.86      0.79      1602\n",
      "           1       0.62      0.42      0.50       897\n",
      "\n",
      "    accuracy                           0.70      2499\n",
      "   macro avg       0.67      0.64      0.64      2499\n",
      "weighted avg       0.69      0.70      0.68      2499\n",
      "\n"
     ]
    }
   ],
   "source": [
    "print(classification_report(y_test_bin, mnb_2.predict(X_test_bin)))"
   ]
  },
  {
   "cell_type": "code",
   "execution_count": 61,
   "metadata": {
    "ExecuteTime": {
     "end_time": "2021-01-23T07:01:26.544769Z",
     "start_time": "2021-01-23T07:01:26.034522Z"
    }
   },
   "outputs": [
    {
     "data": {
      "text/plain": [
       "<sklearn.metrics._plot.confusion_matrix.ConfusionMatrixDisplay at 0x7fba1b884908>"
      ]
     },
     "execution_count": 61,
     "metadata": {},
     "output_type": "execute_result"
    },
    {
     "data": {
      "image/png": "[encoded data removed]",
      "text/plain": [
       "<Figure size 432x432 with 2 Axes>"
      ]
     },
     "metadata": {
      "needs_background": "light"
     },
     "output_type": "display_data"
    }
   ],
   "source": [
    "fig, ax = plt.subplots(figsize=(6, 6))\n",
    "plt.grid(False)\n",
    "plot_confusion_matrix(mnb_2, X_test_bin, y_test_bin, cmap='Blues', ax=ax)"
   ]
  },
  {
   "cell_type": "code",
   "execution_count": 28,
   "metadata": {
    "ExecuteTime": {
     "end_time": "2021-01-23T02:24:33.293876Z",
     "start_time": "2021-01-23T02:24:32.847217Z"
    }
   },
   "outputs": [
    {
     "data": {
      "text/plain": [
       "MultinomialNB()"
      ]
     },
     "execution_count": 28,
     "metadata": {},
     "output_type": "execute_result"
    }
   ],
   "source": [
    "mnb_af = MultinomialNB()\n",
    "mnb_af.fit(X_train_bin_af, y_train_bin_af)"
   ]
  },
  {
   "cell_type": "code",
   "execution_count": 29,
   "metadata": {
    "ExecuteTime": {
     "end_time": "2021-01-23T02:25:16.593900Z",
     "start_time": "2021-01-23T02:25:05.657959Z"
    }
   },
   "outputs": [],
   "source": [
    "mnb_af_cv_mean = np.mean(cross_val_score(mnb_af, X_train_bin_af, \n",
    "                                         y_train_bin_af, cv=5, scoring='accuracy', n_jobs=-1))"
   ]
  },
  {
   "cell_type": "code",
   "execution_count": 31,
   "metadata": {
    "ExecuteTime": {
     "end_time": "2021-01-23T02:26:29.982985Z",
     "start_time": "2021-01-23T02:26:29.577859Z"
    }
   },
   "outputs": [
    {
     "name": "stdout",
     "output_type": "stream",
     "text": [
      "Training Accuracy: 0.7208026067569885\n",
      "Mean Cross Validation Training Accuracy: 0.6854731532230683\n",
      "Testing Accuracy: 0.6718687474989996\n"
     ]
    }
   ],
   "source": [
    "print(f\"Training Accuracy: {mnb_af.score(X_train_bin_af, y_train_bin_af)}\")\n",
    "print(f\"Mean Cross Validation Training Accuracy: {mnb2_cv_mean}\")\n",
    "print(f\"Testing Accuracy: {mnb_af.score(X_test_bin_af, y_test_bin_af)}\")"
   ]
  },
  {
   "cell_type": "code",
   "execution_count": 32,
   "metadata": {
    "ExecuteTime": {
     "end_time": "2021-01-23T02:37:57.593589Z",
     "start_time": "2021-01-23T02:37:14.806671Z"
    }
   },
   "outputs": [
    {
     "data": {
      "text/plain": [
       "RandomForestClassifier()"
      ]
     },
     "execution_count": 32,
     "metadata": {},
     "output_type": "execute_result"
    }
   ],
   "source": [
    "rfc = RandomForestClassifier()\n",
    "rfc.fit(X_train_bin, y_train_bin)"
   ]
  },
  {
   "cell_type": "code",
   "execution_count": 34,
   "metadata": {
    "ExecuteTime": {
     "end_time": "2021-01-23T02:40:45.298991Z",
     "start_time": "2021-01-23T02:39:08.862549Z"
    }
   },
   "outputs": [],
   "source": [
    "rfc_cv_mean = np.mean(cross_val_score(rfc, X_train_bin, y_train_bin, cv=5, scoring='accuracy', n_jobs=-1))"
   ]
  },
  {
   "cell_type": "code",
   "execution_count": 35,
   "metadata": {
    "ExecuteTime": {
     "end_time": "2021-01-23T02:41:23.948897Z",
     "start_time": "2021-01-23T02:41:22.557188Z"
    }
   },
   "outputs": [
    {
     "name": "stdout",
     "output_type": "stream",
     "text": [
      "Training Accuracy: 0.9945120905505059\n",
      "Mean Cross Validation Training Accuracy: 0.7168566393429371\n",
      "Testing Accuracy: 0.7054821928771509\n"
     ]
    }
   ],
   "source": [
    "print(f\"Training Accuracy: {rfc.score(X_train_bin, y_train_bin)}\")\n",
    "print(f\"Mean Cross Validation Training Accuracy: {rfc_cv_mean}\")\n",
    "print(f\"Testing Accuracy: {rfc.score(X_test_bin, y_test_bin)}\")"
   ]
  },
  {
   "cell_type": "code",
   "execution_count": 62,
   "metadata": {
    "ExecuteTime": {
     "end_time": "2021-01-23T07:02:50.701823Z",
     "start_time": "2021-01-23T07:02:50.176337Z"
    }
   },
   "outputs": [
    {
     "name": "stdout",
     "output_type": "stream",
     "text": [
      "              precision    recall  f1-score   support\n",
      "\n",
      "           0       0.72      0.89      0.79      1602\n",
      "           1       0.65      0.38      0.48       897\n",
      "\n",
      "    accuracy                           0.71      2499\n",
      "   macro avg       0.69      0.63      0.64      2499\n",
      "weighted avg       0.70      0.71      0.68      2499\n",
      "\n"
     ]
    }
   ],
   "source": [
    "print(classification_report(y_test_bin, rfc.predict(X_test_bin)))"
   ]
  },
  {
   "cell_type": "code",
   "execution_count": 64,
   "metadata": {
    "ExecuteTime": {
     "end_time": "2021-01-23T07:03:53.753635Z",
     "start_time": "2021-01-23T07:03:53.174198Z"
    }
   },
   "outputs": [
    {
     "data": {
      "text/plain": [
       "<sklearn.metrics._plot.confusion_matrix.ConfusionMatrixDisplay at 0x7fba1c97ffd0>"
      ]
     },
     "execution_count": 64,
     "metadata": {},
     "output_type": "execute_result"
    },
    {
     "data": {
      "image/png": "[encoded data removed]",
      "text/plain": [
       "<Figure size 432x432 with 2 Axes>"
      ]
     },
     "metadata": {
      "needs_background": "light"
     },
     "output_type": "display_data"
    }
   ],
   "source": [
    "fig, ax = plt.subplots(figsize=(6, 6))\n",
    "plt.grid(False)\n",
    "plot_confusion_matrix(rfc, X_test_bin, y_test_bin, cmap='Blues', ax=ax)"
   ]
  },
  {
   "cell_type": "code",
   "execution_count": 48,
   "metadata": {
    "ExecuteTime": {
     "end_time": "2021-01-23T03:06:09.160287Z",
     "start_time": "2021-01-23T03:05:53.681377Z"
    }
   },
   "outputs": [
    {
     "data": {
      "text/plain": [
       "RandomForestClassifier()"
      ]
     },
     "execution_count": 48,
     "metadata": {},
     "output_type": "execute_result"
    }
   ],
   "source": [
    "rfc_af = RandomForestClassifier()\n",
    "rfc_af.fit(X_train_bin_af_scaled, y_train_bin_af)"
   ]
  },
  {
   "cell_type": "code",
   "execution_count": 50,
   "metadata": {
    "ExecuteTime": {
     "end_time": "2021-01-23T03:08:01.679487Z",
     "start_time": "2021-01-23T03:07:28.442732Z"
    }
   },
   "outputs": [],
   "source": [
    "rfc_af_cv_mean = np.mean(cross_val_score(rfc_af, X_train_bin_af_scaled, y_train_bin_af, \n",
    "                                        cv=5, scoring='accuracy', n_jobs=-1))"
   ]
  },
  {
   "cell_type": "code",
   "execution_count": 51,
   "metadata": {
    "ExecuteTime": {
     "end_time": "2021-01-23T03:08:11.802778Z",
     "start_time": "2021-01-23T03:08:10.734548Z"
    }
   },
   "outputs": [
    {
     "name": "stdout",
     "output_type": "stream",
     "text": [
      "Training Accuracy: 0.9957125707425828\n",
      "Mean Cross Validation Training Accuracy: 0.7122267443313182\n",
      "Testing Accuracy: 0.6350540216086434\n"
     ]
    }
   ],
   "source": [
    "print(f\"Training Accuracy: {rfc_af.score(X_train_bin_af_scaled, y_train_bin_af)}\")\n",
    "print(f\"Mean Cross Validation Training Accuracy: {rfc_af_cv_mean}\")\n",
    "print(f\"Testing Accuracy: {rfc_af.score(X_test_bin_af_scaled, y_test_bin_af)}\")"
   ]
  },
  {
   "cell_type": "code",
   "execution_count": 53,
   "metadata": {
    "ExecuteTime": {
     "end_time": "2021-01-23T04:16:26.267816Z",
     "start_time": "2021-01-23T04:11:14.174291Z"
    }
   },
   "outputs": [
    {
     "data": {
      "text/plain": [
       "SVC(kernel='linear')"
      ]
     },
     "execution_count": 53,
     "metadata": {},
     "output_type": "execute_result"
    }
   ],
   "source": [
    "linear_svc = SVC(kernel='linear')\n",
    "linear_svc.fit(X_train_bin, y_train_bin)"
   ]
  },
  {
   "cell_type": "code",
   "execution_count": 54,
   "metadata": {
    "ExecuteTime": {
     "end_time": "2021-01-23T04:27:25.911947Z",
     "start_time": "2021-01-23T04:16:46.335724Z"
    }
   },
   "outputs": [],
   "source": [
    "linear_svc_cv_mean = np.mean(cross_val_score(linear_svc, X_train_bin, y_train_bin,\n",
    "                                            cv=5, scoring='accuracy', n_jobs=-1))"
   ]
  },
  {
   "cell_type": "code",
   "execution_count": 56,
   "metadata": {
    "ExecuteTime": {
     "end_time": "2021-01-23T05:19:09.783753Z",
     "start_time": "2021-01-23T05:12:00.510897Z"
    }
   },
   "outputs": [
    {
     "name": "stdout",
     "output_type": "stream",
     "text": [
      "Training Accuracy: 0.8605728005487909\n",
      "Mean Cross Validation Training Accuracy: 0.7197725913154928\n",
      "Testing Accuracy: 0.7278911564625851\n"
     ]
    }
   ],
   "source": [
    "print(f\"Training Accuracy: {linear_svc.score(X_train_bin, y_train_bin)}\")\n",
    "print(f\"Mean Cross Validation Training Accuracy: {linear_svc_cv_mean}\")\n",
    "print(f\"Testing Accuracy: {linear_svc.score(X_test_bin, y_test_bin)}\")"
   ]
  },
  {
   "cell_type": "code",
   "execution_count": 65,
   "metadata": {
    "ExecuteTime": {
     "end_time": "2021-01-23T07:06:33.541099Z",
     "start_time": "2021-01-23T07:04:26.942087Z"
    }
   },
   "outputs": [
    {
     "name": "stdout",
     "output_type": "stream",
     "text": [
      "              precision    recall  f1-score   support\n",
      "\n",
      "           0       0.74      0.90      0.81      1602\n",
      "           1       0.70      0.42      0.53       897\n",
      "\n",
      "    accuracy                           0.73      2499\n",
      "   macro avg       0.72      0.66      0.67      2499\n",
      "weighted avg       0.72      0.73      0.71      2499\n",
      "\n"
     ]
    }
   ],
   "source": [
    "print(classification_report(y_test_bin, linear_svc.predict(X_test_bin)))"
   ]
  },
  {
   "cell_type": "code",
   "execution_count": 66,
   "metadata": {
    "ExecuteTime": {
     "end_time": "2021-01-23T07:09:10.205097Z",
     "start_time": "2021-01-23T07:06:44.860423Z"
    }
   },
   "outputs": [
    {
     "data": {
      "text/plain": [
       "<sklearn.metrics._plot.confusion_matrix.ConfusionMatrixDisplay at 0x7fba1ca84f98>"
      ]
     },
     "execution_count": 66,
     "metadata": {},
     "output_type": "execute_result"
    },
    {
     "data": {
      "image/png": "[encoded data removed]",
      "text/plain": [
       "<Figure size 432x432 with 2 Axes>"
      ]
     },
     "metadata": {
      "needs_background": "light"
     },
     "output_type": "display_data"
    }
   ],
   "source": [
    "fig, ax = plt.subplots(figsize=(6, 6))\n",
    "plt.grid(False)\n",
    "plot_confusion_matrix(linear_svc, X_test_bin, y_test_bin, cmap='Blues', ax=ax)"
   ]
  },
  {
   "cell_type": "code",
   "execution_count": 67,
   "metadata": {
    "ExecuteTime": {
     "end_time": "2021-01-23T07:10:34.229195Z",
     "start_time": "2021-01-23T07:10:34.224951Z"
    }
   },
   "outputs": [],
   "source": [
    "gs_linear = SVC()"
   ]
  },
  {
   "cell_type": "code",
   "execution_count": null,
   "metadata": {
    "ExecuteTime": {
     "start_time": "2021-01-23T07:19:27.326Z"
    }
   },
   "outputs": [],
   "source": [
    "linear_param = {'C':[0.1, 1, 10],\n",
    "                     'kernel':['linear'], \n",
    "                    'class_weight':[None, 'balanced'], \n",
    "                    }\n",
    "\n",
    "gs_linear_svc = GridSearchCV(gs_linear, param_grid=linear_param, cv=5, n_jobs=-1)\n",
    "gs_linear_svc.fit(X_train_bin, y_train_bin)\n",
    "\n",
    "gs_linear_svc.best_params_"
   ]
  },
  {
   "cell_type": "code",
   "execution_count": null,
   "metadata": {
    "ExecuteTime": {
     "start_time": "2021-01-23T07:19:34.152Z"
    }
   },
   "outputs": [],
   "source": [
    "gs_linear_svc_cv_mean = np.mean(cross_val_score(gs_linear_svc, X_train, y_train, \n",
    "                                                  cv=5, scoring='accuracy', n_jobs=-1))"
   ]
  },
  {
   "cell_type": "code",
   "execution_count": null,
   "metadata": {
    "ExecuteTime": {
     "start_time": "2021-01-23T07:19:37.167Z"
    }
   },
   "outputs": [],
   "source": [
    "print(f\"Training Accuracy: {gs_linear_svc.score(X_train_bin, y_train_bin)}\")\n",
    "print(f\"Mean Cross Validation Training Accuracy: {gs_linear_svc_cv_mean}\")\n",
    "print(f\"Testing Accuracy: {gs_linear_svc.score(X_test_bin, y_test_bin)}\")"
   ]
  },
  {
   "cell_type": "code",
   "execution_count": null,
   "metadata": {},
   "outputs": [],
   "source": [
    "print(classification_report(y_test_bin, gs_linear_svc.predict(X_test_bin)))"
   ]
  },
  {
   "cell_type": "code",
   "execution_count": null,
   "metadata": {},
   "outputs": [],
   "source": [
    "fig, ax = plt.subplots(figsize=(6, 6))\n",
    "plt.grid(False)\n",
    "plot_confusion_matrix(gs_linear_svc, X_test_bin, y_test_bin, cmap='Blues', ax=ax)"
   ]
  },
  {
   "cell_type": "code",
   "execution_count": 57,
   "metadata": {
    "ExecuteTime": {
     "end_time": "2021-01-23T05:29:36.650177Z",
     "start_time": "2021-01-23T05:23:33.112352Z"
    }
   },
   "outputs": [
    {
     "data": {
      "text/plain": [
       "SVC()"
      ]
     },
     "execution_count": 57,
     "metadata": {},
     "output_type": "execute_result"
    }
   ],
   "source": [
    "rbf_svc = SVC(kernel='rbf')\n",
    "rbf_svc.fit(X_train_bin, y_train_bin)"
   ]
  },
  {
   "cell_type": "code",
   "execution_count": 58,
   "metadata": {
    "ExecuteTime": {
     "end_time": "2021-01-23T05:43:02.654252Z",
     "start_time": "2021-01-23T05:30:26.860873Z"
    }
   },
   "outputs": [],
   "source": [
    "rbf_svc_cv_mean = np.mean(cross_val_score(rbf_svc, X_train_bin, y_train_bin,\n",
    "                                         cv=5, scoring='accuracy', n_jobs=-1))"
   ]
  },
  {
   "cell_type": "code",
   "execution_count": 59,
   "metadata": {
    "ExecuteTime": {
     "end_time": "2021-01-23T06:00:38.448436Z",
     "start_time": "2021-01-23T05:51:42.802952Z"
    }
   },
   "outputs": [
    {
     "name": "stdout",
     "output_type": "stream",
     "text": [
      "Training Accuracy: 0.9257417252615332\n",
      "Cross Validation Mean Accuracy: 0.717199839496973\n",
      "Testing Accuracy: 0.7214885954381752\n"
     ]
    }
   ],
   "source": [
    "print(f\"Training Accuracy: {rbf_svc.score(X_train_bin, y_train_bin)}\")\n",
    "print(f\"Cross Validation Mean Accuracy: {rbf_svc_cv_mean}\")\n",
    "print(f\"Testing Accuracy: {rbf_svc.score(X_test_bin, y_test_bin)}\")\n"
   ]
  },
  {
   "cell_type": "code",
   "execution_count": 68,
   "metadata": {
    "ExecuteTime": {
     "end_time": "2021-01-23T07:10:48.735878Z",
     "start_time": "2021-01-23T07:10:48.606943Z"
    }
   },
   "outputs": [],
   "source": [
    "from imblearn.over_sampling import RandomOverSampler"
   ]
  },
  {
   "cell_type": "code",
   "execution_count": 69,
   "metadata": {
    "ExecuteTime": {
     "end_time": "2021-01-23T07:11:07.128523Z",
     "start_time": "2021-01-23T07:11:07.113101Z"
    }
   },
   "outputs": [
    {
     "data": {
      "text/plain": [
       "0    3739\n",
       "1    2092\n",
       "Name: sentiment, dtype: int64"
      ]
     },
     "execution_count": 69,
     "metadata": {},
     "output_type": "execute_result"
    }
   ],
   "source": [
    "y_train_bin.value_counts()"
   ]
  },
  {
   "cell_type": "code",
   "execution_count": 70,
   "metadata": {
    "ExecuteTime": {
     "end_time": "2021-01-23T07:12:54.352166Z",
     "start_time": "2021-01-23T07:12:50.472350Z"
    }
   },
   "outputs": [],
   "source": [
    "oversample = RandomOverSampler(sampling_strategy='minority', random_state=123)\n",
    "X_over_train, y_over_train = oversample.fit_resample(X_train_bin, y_train_bin)"
   ]
  },
  {
   "cell_type": "code",
   "execution_count": 71,
   "metadata": {
    "ExecuteTime": {
     "end_time": "2021-01-23T07:13:04.794293Z",
     "start_time": "2021-01-23T07:13:04.777906Z"
    }
   },
   "outputs": [
    {
     "data": {
      "text/plain": [
       "1    3739\n",
       "0    3739\n",
       "Name: sentiment, dtype: int64"
      ]
     },
     "execution_count": 71,
     "metadata": {},
     "output_type": "execute_result"
    }
   ],
   "source": [
    "y_over_train.value_counts()"
   ]
  },
  {
   "cell_type": "code",
   "execution_count": null,
   "metadata": {},
   "outputs": [],
   "source": []
  }
 ],
 "metadata": {
  "kernelspec": {
   "display_name": "Python 3",
   "language": "python",
   "name": "python3"
  },
  "language_info": {
   "codemirror_mode": {
    "name": "ipython",
    "version": 3
   },
   "file_extension": ".py",
   "mimetype": "text/x-python",
   "name": "python",
   "nbconvert_exporter": "python",
   "pygments_lexer": "ipython3",
   "version": "3.6.9"
  },
  "toc": {
   "base_numbering": 1,
   "nav_menu": {},
   "number_sections": true,
   "sideBar": true,
   "skip_h1_title": false,
   "title_cell": "Table of Contents",
   "title_sidebar": "Contents",
   "toc_cell": false,
   "toc_position": {},
   "toc_section_display": true,
   "toc_window_display": false
  }
 },
 "nbformat": 4,
 "nbformat_minor": 2
}
